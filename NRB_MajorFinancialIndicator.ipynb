{
 "cells": [
  {
   "cell_type": "code",
   "execution_count": 17,
   "metadata": {},
   "outputs": [],
   "source": [
    "import pandas as pd\n",
    "from bs4 import BeautifulSoup\n",
    "import urllib.parse\n",
    "import logging\n",
    "import re \n",
    "import requests  # Import requests module\n",
    "\n",
    "# Logging configuration\n",
    "logging.basicConfig(filename='scraping.log', level=logging.INFO)\n",
    "\n",
    "# Create an empty DataFrame to hold all the data\n",
    "combined_df = pd.DataFrame()\n",
    "\n",
    "# Define the URL where the XLSX files are located\n",
    "url = \"https://www.nrb.org.np/category/monthly-statistics/?department=bfr\"\n",
    "\n",
    "# Send a GET request to the URL\n",
    "response = requests.get(url)\n",
    "\n",
    "# Check if the request was successful\n",
    "if response.status_code == 200:\n",
    "    # Parse the HTML content of the page\n",
    "    soup = BeautifulSoup(response.text, 'html.parser')\n",
    "\n",
    "    # Find all links on the page\n",
    "    links = soup.find_all('a')\n",
    "\n",
    "    # Iterate through the links\n",
    "    for link in links:\n",
    "        href = link.get('href')\n",
    "\n",
    "        if href and href.endswith('.xlsx'):\n",
    "            absolute_url = urllib.parse.urljoin(url, href)\n",
    "          \n",
    "            df = pd.read_excel(absolute_url, sheet_name='C4', header=0)\n",
    "            df = df.iloc[:, 2:] \n",
    "            df = df.iloc[1:] \n",
    "            df.reset_index(drop=True, inplace=True)\n",
    "            \n",
    "            df.columns = df.iloc[0]\n",
    "            df = df.iloc[1:]\n",
    "            df.reset_index(drop=True, inplace=True)\n",
    "            df = df.transpose()\n",
    "            df.columns = df.iloc[0]\n",
    "            df = df.iloc[1:]\n",
    "            df.reset_index(drop=True, inplace=True)\n",
    "            df['source_link'] = href\n",
    "            df['extracted_source_link'] = df['source_link'].str.extract(r'([^/]+)_Publish', flags=re.IGNORECASE)\n",
    "\n",
    "            combined_df = pd.concat([combined_df, df], ignore_index=True)\n",
    "            combined_df = combined_df.dropna(how='all')\n",
    "\n",
    "\n",
    "combined_df.to_excel('MajorFinancialIndicator.xlsx', index=False)\n"
   ]
  },
  {
   "cell_type": "code",
   "execution_count": null,
   "metadata": {},
   "outputs": [],
   "source": []
  }
 ],
 "metadata": {
  "kernelspec": {
   "display_name": "myenv",
   "language": "python",
   "name": "python3"
  },
  "language_info": {
   "codemirror_mode": {
    "name": "ipython",
    "version": 3
   },
   "file_extension": ".py",
   "mimetype": "text/x-python",
   "name": "python",
   "nbconvert_exporter": "python",
   "pygments_lexer": "ipython3",
   "version": "3.11.9"
  }
 },
 "nbformat": 4,
 "nbformat_minor": 2
}
